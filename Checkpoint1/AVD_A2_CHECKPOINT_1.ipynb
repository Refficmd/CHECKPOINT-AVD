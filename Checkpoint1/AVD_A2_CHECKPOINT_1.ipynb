{
  "nbformat": 4,
  "nbformat_minor": 0,
  "metadata": {
    "colab": {
      "provenance": [],
      "collapsed_sections": [
        "Qw3wUNcON3m0",
        "6-Y9frPiPQ2c",
        "OS7WfctmPg6m",
        "SnH3R-dMReWS"
      ]
    },
    "kernelspec": {
      "name": "python3",
      "display_name": "Python 3"
    },
    "language_info": {
      "name": "python"
    }
  },
  "cells": [
    {
      "cell_type": "markdown",
      "source": [],
      "metadata": {
        "id": "I-WDWbuRwmHu"
      }
    },
    {
      "cell_type": "markdown",
      "source": [
        "# Business Understanding"
      ],
      "metadata": {
        "id": "P2hs7JYVKksh"
      }
    },
    {
      "cell_type": "markdown",
      "source": [
        "# Business Objective"
      ],
      "metadata": {
        "id": "Qw3wUNcON3m0"
      }
    },
    {
      "cell_type": "markdown",
      "source": [
        "Proyek ini bertujuan untuk menganalisis pola latihan anggota gym guna meningkatkan loyalitas pelanggan, mengoptimalkan efektivitas program latihan, serta merancang strategi pemasaran yang lebih tepat sasaran. Melalui analisis data, proyek ini akan mengidentifikasi faktor-faktor yang berkontribusi terhadap retensi anggota dan memberikan wawasan bagi gym dalam meningkatkan kualitas layanan. Selain itu, proyek ini juga berfokus pada peningkatan efisiensi operasional dengan menganalisis tren latihan berdasarkan aspek demografi dan preferensi anggota.\n",
        "\n",
        "\n"
      ],
      "metadata": {
        "id": "8gUbMWDCO5D5"
      }
    },
    {
      "cell_type": "markdown",
      "source": [
        "# Assess Situation"
      ],
      "metadata": {
        "id": "6-Y9frPiPQ2c"
      }
    },
    {
      "cell_type": "markdown",
      "source": [
        "Industri kebugaran semakin kompetitif, dengan meningkatnya kesadaran masyarakat akan pentingnya gaya hidup sehat. Gym harus mampu beradaptasi dengan perubahan tren latihan, preferensi anggota, dan perilaku latihan untuk tetap relevan. Tantangan utama yang dihadapi meliputi:\n",
        "\n",
        "\n",
        "1.   Menurunnya retensi pelanggan akibat kurangnya keterlibatan atau motivasi anggota.\n",
        "2.   Kurangnya personalisasi dalam program latihan yang bisa membuat anggota merasa kurang termotivasi.\n",
        "3. Strategi pemasaran yang kurang efektif karena kurangnya segmentasi berdasarkan pola latihan pelanggan.\n",
        "\n",
        "\n",
        "Untuk menghadapi tantangan ini, gym perlu mengadopsi pendekatan berbasis data dalam pengambilan keputusan bisnis mereka."
      ],
      "metadata": {
        "id": "f2AGGuSNPWKv"
      }
    },
    {
      "cell_type": "markdown",
      "source": [
        "# Data Mining Goals"
      ],
      "metadata": {
        "id": "OS7WfctmPg6m"
      }
    },
    {
      "cell_type": "markdown",
      "source": [
        "Proyek ini bertujuan untuk mengidentifikasi pola latihan anggota gym berdasarkan frekuensi, jenis aktivitas, dan durasi latihan, serta mengevaluasi faktor-faktor yang memengaruhi loyalitas pelanggan, termasuk aspek demografi, intensitas latihan, dan preferensi aktivitas. Selain itu, proyek ini juga berfokus pada pengembangan strategi pemasaran yang lebih tepat sasaran dengan melakukan segmentasi pelanggan berdasarkan kebiasaan latihan mereka, sekaligus meningkatkan kualitas layanan gym melalui rekomendasi berbasis data yang disesuaikan dengan kebutuhan masing-masing kelompok pelanggan."
      ],
      "metadata": {
        "id": "Ww9dMsKqPlPs"
      }
    },
    {
      "cell_type": "markdown",
      "source": [
        "# Project Plan"
      ],
      "metadata": {
        "id": "SnH3R-dMReWS"
      }
    },
    {
      "cell_type": "markdown",
      "source": [
        "1. Identifikasi Masalah\n",
        "\n",
        "\n",
        "*   Memahami kebutuhan bisnis dalam meningkatkan retensi pelanggan serta efektivitas latihan member\n",
        "*   Menentukan indikator keberhasilan, seperti tingkat keterlibatan anggota dan loyalitas pelanggan.\n",
        "\n",
        "\n",
        "2. Pengumpulan & Persiapan Data\n",
        "\n",
        "*   Mengumpulkan data latihan anggota gym, termasuk frekuensi, durasi, dan jenis latihan.\n",
        "\n",
        "*   Membersihkan serta memproses data agar tetap akurat dan konsisten.\n",
        "\n",
        "*   Melakukan eksplorasi awal untuk memahami pola yang terdapat dalam data.\n",
        "\n",
        "\n",
        "\n",
        "3. Analisis Data & Pemodelan\n",
        "\n",
        "*   Menggunakan teknik analisis data untuk mengidentifikasi pola latihan pelanggan.\n",
        "*   Menganalisis faktor-faktor yang mempengaruhi loyalitas anggota.\n",
        "*   Membangun model segmentasi pelanggan berdasarkan pola latihan mereka\n",
        "\n",
        "4. Interpretasi Hasil & Rekomendasi\n",
        "\n",
        "\n",
        "*   Mengolah hasil analisis menjadi wawasan yang dapat diterapkan dalam bisnis.\n",
        "*   Menyusun strategi pemasaran berbasis data agar lebih tepat sasaran\n",
        "*   Memberikan saran terkait peningkatan layanan dan personalisasi program latihan.\n",
        "\n",
        "\n",
        "5. Implementasi & Evaluasi\n",
        "\n",
        "\n",
        "*   Menerapkan rekomendasi ke dalam strategi operasional gym.\n",
        "*   Memantau dampak perubahan dan melakukan perbaikan jika diperlukan.\n",
        "*   Mengoptimalkan model serta strategi berdasarkan hasil evaluasi.\n",
        "\n"
      ],
      "metadata": {
        "id": "Nd9srRHGRjfF"
      }
    },
    {
      "cell_type": "code",
      "source": [],
      "metadata": {
        "id": "hpIm3st1x43x"
      },
      "execution_count": null,
      "outputs": []
    }
  ]
}